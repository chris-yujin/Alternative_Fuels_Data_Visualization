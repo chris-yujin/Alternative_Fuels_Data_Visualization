{
 "cells": [
  {
   "cell_type": "code",
   "execution_count": 2,
   "metadata": {},
   "outputs": [],
   "source": [
    "import requests\n",
    "from pprint import pprint\n",
    "from config import api_key\n",
    "import json"
   ]
  },
  {
   "cell_type": "code",
   "execution_count": null,
   "metadata": {},
   "outputs": [],
   "source": [
    "url_cng = f\"https://developer.nrel.gov/api/alt-fuel-stations/v1.json?api_key={api_key}&fuel_type=CNG\"\n",
    "\n",
    "response = requests.get(url_cng)\n",
    "\n",
    "cng = response.json()\n",
    "cng_json = json.dumps(cng['fuel_stations'], indent=4, sort_keys=False)\n",
    "\n",
    "with open(\"ev_cng.json\", \"w\") as outfile:\n",
    "    outfile.write(cng_json)\n",
    "# print(cng_json)"
   ]
  },
  {
   "cell_type": "code",
   "execution_count": null,
   "metadata": {},
   "outputs": [],
   "source": [
    "urlelec = f\"https://developer.nrel.gov/api/alt-fuel-stations/v1.json?api_key={api_key}&fuel_type=ELEC\"\n",
    "\n",
    "response = requests.get(urlelec)\n",
    "\n",
    "elec = response.json()\n",
    "elec_json = json.dumps(elec['fuel_stations'], indent=4, sort_keys=False)\n",
    "\n",
    "with open(\"ev_elec.json\", \"w\") as outfile:\n",
    "    outfile.write(elec_json)\n",
    "# print(elec_json)"
   ]
  },
  {
   "cell_type": "code",
   "execution_count": 53,
   "metadata": {},
   "outputs": [],
   "source": [
    "urlbd = f\"https://developer.nrel.gov/api/alt-fuel-stations/v1.json?api_key={api_key}&fuel_type=BD\"\n",
    "response = requests.get(urlbd)\n",
    "\n",
    "bd = response.json()\n",
    "bd_json = json.dumps(bd['fuel_stations'], indent=4, sort_keys=False)\n",
    "\n",
    "with open(\"ev_bd.json\", \"w\") as outfile:\n",
    "    outfile.write(bd_json)\n",
    "# print(bd_json)"
   ]
  },
  {
   "cell_type": "code",
   "execution_count": 56,
   "metadata": {},
   "outputs": [],
   "source": [
    "urle85 = f\"https://developer.nrel.gov/api/alt-fuel-stations/v1.json?api_key={api_key}&fuel_type=E85\"\n",
    "response = requests.get(urle85)\n",
    "\n",
    "e85 = response.json()\n",
    "e85_json = json.dumps(e85['fuel_stations'], indent=4, sort_keys=False)\n",
    "\n",
    "with open(\"ev_e85.json\", \"w\") as outfile:\n",
    "    outfile.write(e85_json)\n",
    "# print(e85_json)"
   ]
  },
  {
   "cell_type": "code",
   "execution_count": 58,
   "metadata": {},
   "outputs": [],
   "source": [
    "urlhy = f\"https://developer.nrel.gov/api/alt-fuel-stations/v1.json?api_key={api_key}&fuel_type=HY\"\n",
    "response = requests.get(urlhy)\n",
    "\n",
    "hy = response.json()\n",
    "hy_json = json.dumps(hy['fuel_stations'], indent=4, sort_keys=False)\n",
    "\n",
    "with open(\"ev_hy.json\", \"w\") as outfile:\n",
    "    outfile.write(hy_json)\n",
    "# print(hy_json)"
   ]
  },
  {
   "cell_type": "code",
   "execution_count": 59,
   "metadata": {},
   "outputs": [],
   "source": [
    "urllng = f\"https://developer.nrel.gov/api/alt-fuel-stations/v1.json?api_key={api_key}&fuel_type=LNG\"\n",
    "response = requests.get(urllng)\n",
    "\n",
    "lng = response.json()\n",
    "lng_json = json.dumps(lng['fuel_stations'], indent=4, sort_keys=False)\n",
    "\n",
    "with open(\"ev_lng.json\", \"w\") as outfile:\n",
    "    outfile.write(lng_json)\n",
    "# print(lng_json)"
   ]
  },
  {
   "cell_type": "code",
   "execution_count": 60,
   "metadata": {},
   "outputs": [],
   "source": [
    "urllpg = f\"https://developer.nrel.gov/api/alt-fuel-stations/v1.json?api_key={api_key}&fuel_type=LPG\"\n",
    "response = requests.get(urllpg)\n",
    "\n",
    "lpg = response.json()\n",
    "lpg_json = json.dumps(lpg['fuel_stations'], indent=4, sort_keys=False)\n",
    "\n",
    "with open(\"ev_lpg.json\", \"w\") as outfile:\n",
    "    outfile.write(lpg_json)\n",
    "# print(lpg_json)"
   ]
  },
  {
   "cell_type": "code",
   "execution_count": 61,
   "metadata": {},
   "outputs": [],
   "source": [
    "urlrd = f\"https://developer.nrel.gov/api/alt-fuel-stations/v1.json?api_key={api_key}&fuel_type=RD\"\n",
    "response = requests.get(urlrd)\n",
    "\n",
    "rd = response.json()\n",
    "rd_json = json.dumps(rd['fuel_stations'], indent=4, sort_keys=False)\n",
    "\n",
    "with open(\"ev_rd.json\", \"w\") as outfile:\n",
    "    outfile.write(rd_json)\n",
    "# print(rd_json)"
   ]
  }
 ],
 "metadata": {
  "kernelspec": {
   "display_name": "base",
   "language": "python",
   "name": "python3"
  },
  "language_info": {
   "codemirror_mode": {
    "name": "ipython",
    "version": 3
   },
   "file_extension": ".py",
   "mimetype": "text/x-python",
   "name": "python",
   "nbconvert_exporter": "python",
   "pygments_lexer": "ipython3",
   "version": "3.9.13"
  },
  "orig_nbformat": 4
 },
 "nbformat": 4,
 "nbformat_minor": 2
}
